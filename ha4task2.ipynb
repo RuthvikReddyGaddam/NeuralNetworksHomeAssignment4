{
 "cells": [
  {
   "cell_type": "markdown",
   "id": "6e2cb725",
   "metadata": {},
   "source": [
    "Q2: Named Entity Recognition with SpaCy\n",
    "\n",
    "Task: Use the spaCy library to extract named entities from a sentence. For each entity, print:\n",
    "\n",
    "- The entity text (e.g., \"Barack Obama\")\n",
    "- The entity label (e.g., PERSON, DATE)\n",
    "- The start and end character positions in the string\n",
    "  Use the input sentence:\n",
    "  \"Barack Obama served as the 44th President of the United States and won the Nobel Peace Prize in 2009.\"\n",
    "  Expected Output:\n",
    "  Each line of the output should describe one entity detected\n",
    "\n",
    "Short Answer Questions:\n",
    "\n",
    "1. How does NER differ from POS tagging in NLP?\n",
    "2. Describe two applications that use NER in the real world (e.g., financial news, search engines).\n"
   ]
  },
  {
   "cell_type": "code",
   "execution_count": null,
   "id": "10d82b52",
   "metadata": {},
   "outputs": [
    {
     "name": "stdout",
     "output_type": "stream",
     "text": [
      "Entity Text: Barack Obama, Label: PERSON, Start: 0, End: 12\n",
      "Entity Text: 44th, Label: ORDINAL, Start: 27, End: 31\n",
      "Entity Text: the United States, Label: GPE, Start: 45, End: 62\n",
      "Entity Text: the Nobel Peace Prize, Label: WORK_OF_ART, Start: 71, End: 92\n",
      "Entity Text: 2009, Label: DATE, Start: 96, End: 100\n"
     ]
    }
   ],
   "source": [
    "# Importing necessary libraries\n",
    "import spacy\n",
    "\n",
    "# Loading English Language Model\n",
    "nlp = spacy.load(\"en_core_web_sm\")\n",
    "\n",
    "# Input sentence\n",
    "sentence = \"Barack Obama served as the 44th President of the United States and won the Nobel Peace Prize in 2009.\"\n",
    "\n",
    "# Processing sentence\n",
    "doc = nlp(sentence)\n",
    "\n",
    "# Extracting and printing the named entities\n",
    "for ent in doc.ents:\n",
    "    print(f\"Entity Text: {ent.text}, Label: {ent.label_}, Start: {ent.start_char}, End: {ent.end_char}\")\n"
   ]
  },
  {
   "cell_type": "markdown",
   "id": "05b783b0",
   "metadata": {},
   "source": [
    "Short Answer Questions:\n",
    "\n",
    "1. How does NER differ from POS tagging in NLP?\n",
    "\n",
    "- NER focuses on what the word is and POS tagging sees how the word is being used in a sentence\n",
    "\n",
    "2. Describe two applications that use NER in the real world (e.g., financial news, search engines).\n",
    "\n",
    "- In financial news NER can be used to infer company names, stock tickers, etc\n",
    "- in search engines we can analyse the different entities that make up a query. like queries like 'What is the capital of Japan?' recognizing the entity like the country in question and the capital of the country will help in retrieving relevant information.\n"
   ]
  },
  {
   "cell_type": "markdown",
   "id": "318e8dbb",
   "metadata": {},
   "source": []
  }
 ],
 "metadata": {
  "kernelspec": {
   "display_name": "Python 3",
   "language": "python",
   "name": "python3"
  },
  "language_info": {
   "codemirror_mode": {
    "name": "ipython",
    "version": 3
   },
   "file_extension": ".py",
   "mimetype": "text/x-python",
   "name": "python",
   "nbconvert_exporter": "python",
   "pygments_lexer": "ipython3",
   "version": "3.12.6"
  }
 },
 "nbformat": 4,
 "nbformat_minor": 5
}
