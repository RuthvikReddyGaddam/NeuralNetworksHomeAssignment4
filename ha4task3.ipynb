{
 "cells": [
  {
   "cell_type": "markdown",
   "id": "441d3b2d",
   "metadata": {},
   "source": [
    "Q3: Scaled Dot-Product Attention \n",
    "\n",
    "Task: Implement the scaled dot-product attention mechanism. Given matrices Q (Query), K (Key), and V (Value), your function should:\n",
    "- Compute the dot product of Q and Kᵀ\n",
    "- Scale the result by dividing it by √d (where d is the key dimension)\n",
    "- Apply softmax to get attention weights\n",
    "- Multiply the weights by V to get the output\n",
    "Use the following test inputs:\n",
    "\n",
    "Q = np.array([[1, 0, 1, 0], [0, 1, 0, 1]])\n",
    "\n",
    "K = np.array([[1, 0, 1, 0], [0, 1, 0, 1]])\n",
    "\n",
    "V = np.array([[1, 2, 3, 4], [5, 6, 7, 8]])\n",
    "\n",
    "\n",
    "Expected Output Description:\n",
    "Your output should display:\n",
    "1.\tThe attention weights matrix (after softmax)\n",
    "2.\tThe final output matrix\n",
    "\n",
    "Short Answer Questions:\n",
    "1.\tWhy do we divide the attention score by √d in the scaled dot-product attention formula?\n",
    "2.\tHow does self-attention help the model understand relationships between words in a sentence?\n"
   ]
  },
  {
   "cell_type": "code",
   "execution_count": null,
   "id": "aade540b",
   "metadata": {
    "vscode": {
     "languageId": "plaintext"
    }
   },
   "outputs": [],
   "source": []
  }
 ],
 "metadata": {
  "language_info": {
   "name": "python"
  }
 },
 "nbformat": 4,
 "nbformat_minor": 5
}
