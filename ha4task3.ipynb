{
 "cells": [
  {
   "cell_type": "markdown",
   "id": "441d3b2d",
   "metadata": {},
   "source": [
    "Q3: Scaled Dot-Product Attention\n",
    "\n",
    "Task: Implement the scaled dot-product attention mechanism. Given matrices Q (Query), K (Key), and V (Value), your function should:\n",
    "\n",
    "- Compute the dot product of Q and Kᵀ\n",
    "- Scale the result by dividing it by √d (where d is the key dimension)\n",
    "- Apply softmax to get attention weights\n",
    "- Multiply the weights by V to get the output\n",
    "  Use the following test inputs:\n",
    "\n",
    "Q = np.array([[1, 0, 1, 0], [0, 1, 0, 1]])\n",
    "\n",
    "K = np.array([[1, 0, 1, 0], [0, 1, 0, 1]])\n",
    "\n",
    "V = np.array([[1, 2, 3, 4], [5, 6, 7, 8]])\n",
    "\n",
    "Expected Output Description:\n",
    "Your output should display:\n",
    "\n",
    "1. The attention weights matrix (after softmax)\n",
    "2. The final output matrix\n",
    "\n",
    "Short Answer Questions:\n",
    "\n",
    "1. Why do we divide the attention score by √d in the scaled dot-product attention formula?\n",
    "2. How does self-attention help the model understand relationships between words in a sentence?\n"
   ]
  },
  {
   "cell_type": "code",
   "execution_count": null,
   "id": "aade540b",
   "metadata": {},
   "outputs": [
    {
     "name": "stdout",
     "output_type": "stream",
     "text": [
      "Attention Weights:\n",
      " [[0.73105854 0.26894143]\n",
      " [0.26894143 0.73105854]]\n",
      "Output:\n",
      " [[2.0757656 3.0757656 4.0757656 5.0757656]\n",
      " [3.9242342 4.924234  5.924234  6.924234 ]]\n"
     ]
    }
   ],
   "source": [
    "# Importing necessary libraries\n",
    "import tensorflow as tf\n",
    "import numpy as np\n",
    "\n",
    "# Define Q K V matrices\n",
    "Q = tf.constant([[1, 0, 1, 0], [0, 1, 0, 1]], dtype=tf.float32)\n",
    "K = tf.constant([[1, 0, 1, 0], [0, 1, 0, 1]], dtype=tf.float32)\n",
    "V = tf.constant([[1, 2, 3, 4], [5, 6, 7, 8]], dtype=tf.float32)\n",
    "\n",
    "# Dot product of Q and K-transpose\n",
    "matmul_qk = tf.matmul(Q, K, transpose_b=True)\n",
    "\n",
    "# Scale by sqrt(d)\n",
    "d_k = tf.cast(tf.shape(K)[-1], tf.float32)\n",
    "scaled_result = matmul_qk / tf.math.sqrt(d_k)\n",
    "\n",
    "# Softmax\n",
    "attention_weights = tf.nn.softmax(scaled_result, axis=-1)\n",
    "\n",
    "# Multiply weights with V\n",
    "output = tf.matmul(attention_weights, V)\n",
    "\n",
    "# Printing results\n",
    "print(f\"Attention Weights:\\n {attention_weights.numpy()}\")\n",
    "print(f\"Output:\\n {output.numpy()}\")\n"
   ]
  },
  {
   "cell_type": "markdown",
   "id": "b847c4bf",
   "metadata": {},
   "source": [
    "Short Answer Questions:\n",
    "\n",
    "1. Why do we divide the attention score by √d in the scaled dot-product attention formula?\n",
    "   Scaled down by a factor to prevent exploding dot products and vanishing softmax gradients when the dimension gets large\n",
    "2. How does self-attention help the model understand relationships between words in a sentence?\n",
    "   It helps the model to assess the importance of words in a sentence with respect to each other word. It helps the model capture long range relationships even if the words are far way from each other.\n"
   ]
  }
 ],
 "metadata": {
  "kernelspec": {
   "display_name": "base",
   "language": "python",
   "name": "python3"
  },
  "language_info": {
   "codemirror_mode": {
    "name": "ipython",
    "version": 3
   },
   "file_extension": ".py",
   "mimetype": "text/x-python",
   "name": "python",
   "nbconvert_exporter": "python",
   "pygments_lexer": "ipython3",
   "version": "3.12.7"
  }
 },
 "nbformat": 4,
 "nbformat_minor": 5
}
