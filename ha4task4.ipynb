{
 "cells": [
  {
   "cell_type": "markdown",
   "id": "124e186b",
   "metadata": {},
   "source": [
    "Q4: Sentiment Analysis using HuggingFace Transformers\n",
    "\n",
    "Task: Use the HuggingFace transformers library to create a sentiment classifier. Your program should:\n",
    "- Load a pre-trained sentiment analysis pipeline\n",
    "- Analyze the following input sentence:\n",
    "\"Despite the high price, the performance of the new MacBook is outstanding.\"\n",
    "\n",
    "Print:\n",
    "- Label (e.g., POSITIVE, NEGATIVE)\n",
    "- Confidence score (e.g., 0.9985)\n",
    "Expected Output:\n",
    "Your output should clearly display:\n",
    "Sentiment: [Label]\n",
    "Confidence Score: [Decimal between 0 and 1]\n",
    "\n",
    "Short Answer Questions:\n",
    "1.\tWhat is the main architectural difference between BERT and GPT? Which uses an encoder and which uses a decoder?\n",
    "2.\tExplain why using pre-trained models (like BERT or GPT) is beneficial for NLP applications instead of training from scratch.\n",
    "\n"
   ]
  },
  {
   "cell_type": "code",
   "execution_count": null,
   "id": "bec7aa5a",
   "metadata": {
    "vscode": {
     "languageId": "plaintext"
    }
   },
   "outputs": [],
   "source": []
  }
 ],
 "metadata": {
  "language_info": {
   "name": "python"
  }
 },
 "nbformat": 4,
 "nbformat_minor": 5
}
